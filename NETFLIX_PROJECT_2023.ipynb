{
 "cells": [
  {
   "cell_type": "code",
   "execution_count": 1,
   "metadata": {},
   "outputs": [
    {
     "name": "stderr",
     "output_type": "stream",
     "text": [
      "C:\\Users\\Monika\\AppData\\Local\\Temp\\ipykernel_27280\\2524398245.py:2: DeprecationWarning: \n",
      "Pyarrow will become a required dependency of pandas in the next major release of pandas (pandas 3.0),\n",
      "(to allow more performant data types, such as the Arrow string type, and better interoperability with other libraries)\n",
      "but was not found to be installed on your system.\n",
      "If this would cause problems for you,\n",
      "please provide us feedback at https://github.com/pandas-dev/pandas/issues/54466\n",
      "        \n",
      "  import pandas as pd\n"
     ]
    }
   ],
   "source": [
    "import requests\n",
    "import pandas as pd\n",
    "import numpy as np\n",
    "from bs4 import BeautifulSoup"
   ]
  },
  {
   "cell_type": "code",
   "execution_count": 2,
   "metadata": {},
   "outputs": [],
   "source": [
    "url=\"https://en.wikipedia.org/wiki/List_of_Netflix_original_films_(2023)\"\n",
    "table_attribs = ['Title','Genre','Premiere','Runtime','Language']"
   ]
  },
  {
   "cell_type": "code",
   "execution_count": 3,
   "metadata": {},
   "outputs": [],
   "source": [
    "def extract(url, table_attribs):\n",
    "    html_page = requests.get(url).text\n",
    "    data = BeautifulSoup(html_page,'html.parser')\n",
    "    table = data.find_all('tbody')\n",
    "    rows = table[0].find_all('tr')\n",
    "    df = pd.DataFrame(columns=table_attribs)\n",
    "    for row in rows:\n",
    "        cols = row.find_all('td')\n",
    "        if cols:\n",
    "          title_tags = cols[0].find_all('a')\n",
    "          genre_tags = cols[1].find_all('a')\n",
    "          if title_tags and genre_tags:\n",
    "            title_value = title_tags[0].get('title','')\n",
    "            genre_value = genre_tags[0].get('title','')  # Extract text content of the first <a> tag\n",
    "            runtime_hr = cols[3].contents[0].text\n",
    "            total_minutes = convert_to_minutes(runtime_hr)\n",
    "            data_dict = {\"Title\": title_value,\n",
    "                         \"Genre\":genre_value,\n",
    "                         \"Premiere\":cols[2].contents[0].rstrip('\\n'),\n",
    "                         \"Runtime\":total_minutes,\n",
    "                         \"Language\":cols[4].contents[0].rstrip('\\n')}\n",
    "            df1 = pd.DataFrame(data_dict, index=[0])\n",
    "            df = pd.concat([df, df1], ignore_index=True)\n",
    "    return df"
   ]
  },
  {
   "cell_type": "code",
   "execution_count": 4,
   "metadata": {},
   "outputs": [],
   "source": [
    "def convert_to_minutes(duration_str):\n",
    "    # Split the string by whitespace and extract hours and minutes\n",
    "    parts = duration_str.split()\n",
    "    hours = 0\n",
    "    minutes = 0\n",
    "    \n",
    "    if 'h' in parts:\n",
    "        hours_index = parts.index('h')\n",
    "        hours = int(parts[hours_index - 1])\n",
    "    if 'min' in parts:\n",
    "        minutes_index = parts.index('min')\n",
    "        minutes = int(parts[minutes_index - 1])\n",
    "\n",
    "    # Calculate total duration in minutes\n",
    "    total_minutes = hours * 60 + minutes\n",
    "    return total_minutes"
   ]
  },
  {
   "cell_type": "code",
   "execution_count": 5,
   "metadata": {},
   "outputs": [],
   "source": [
    "df = extract(url,table_attribs)"
   ]
  },
  {
   "cell_type": "code",
   "execution_count": 6,
   "metadata": {},
   "outputs": [
    {
     "data": {
      "image/png": "[encoded data removed]",
      "text/plain": [
       "<Figure size 864x576 with 1 Axes>"
      ]
     },
     "metadata": {
      "needs_background": "light"
     },
     "output_type": "display_data"
    }
   ],
   "source": [
    "import matplotlib.pyplot as plt\n",
    "# Define an empty list\n",
    "colors = []\n",
    "\n",
    "# Iterate over rows of netflix_movies\n",
    "for label, row in df.iterrows() :\n",
    "    if row[\"Language\"] == \"English\" :\n",
    "        colors.append(\"red\")\n",
    "    elif row[\"Language\"] == \"Spanish\" :\n",
    "        colors.append(\"blue\")\n",
    "    elif row[\"Language\"] == \"Korean\":\n",
    "        colors.append(\"green\")\n",
    "    elif row[\"Language\"] == \"Hindi\":\n",
    "        colors.append('orange')\n",
    "    else:\n",
    "        colors.append(\"black\")\n",
    "        \n",
    "# Inspect the first 10 values in your list        \n",
    "colors[:10]\n",
    "\n",
    "# Set the figure style and initalize a new figure\n",
    "fig = plt.figure(figsize=(12,8))\n",
    "\n",
    "# Create a scatter plot of duration versus release_year\n",
    "plt.scatter(df.Language, df.Runtime, c=colors)\n",
    "\n",
    "# Create a title and axis labels\n",
    "plt.title(\"Movie Duration by Language\")\n",
    "plt.xlabel(\"Language\")\n",
    "plt.ylabel(\"Duration (min)\")\n",
    "\n",
    "# Show the plot\n",
    "plt.show()"
   ]
  },
  {
   "cell_type": "code",
   "execution_count": null,
   "metadata": {},
   "outputs": [],
   "source": [
    "#Visual representation on the length of the movies against the language they are in "
   ]
  }
 ],
 "metadata": {
  "kernelspec": {
   "display_name": "myvenv",
   "language": "python",
   "name": "python3"
  },
  "language_info": {
   "codemirror_mode": {
    "name": "ipython",
    "version": 3
   },
   "file_extension": ".py",
   "mimetype": "text/x-python",
   "name": "python",
   "nbconvert_exporter": "python",
   "pygments_lexer": "ipython3",
   "version": "3.10.6"
  }
 },
 "nbformat": 4,
 "nbformat_minor": 2
}
